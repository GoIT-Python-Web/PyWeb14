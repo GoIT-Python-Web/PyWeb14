{
 "cells": [
  {
   "cell_type": "code",
   "execution_count": 26,
   "id": "aef8e023-743d-4858-96ea-28caf2ba7783",
   "metadata": {},
   "outputs": [
    {
     "name": "stdout",
     "output_type": "stream",
     "text": [
      "[1, 1.0, 5]\n"
     ]
    }
   ],
   "source": [
    "elements = [1,2,3]\n",
    "operators = [lambda x: x**2, lambda x: x / 2, lambda x: x + 2]\n",
    "\n",
    "res = []\n",
    "for i in range(3):\n",
    "    res.append(operators[i](elements[i]))\n",
    "\n",
    "print(res)\n"
   ]
  },
  {
   "cell_type": "markdown",
   "id": "2c58ea98-8aa6-4cee-9805-e25d5ee0ae33",
   "metadata": {},
   "source": [
    "# multiprocessing\n",
    "\n",
    "Щоб виконувати обчислення дійсно паралельно там, де це дозволяє обладнання, в Python використовуються окремі процеси. Так, у кожному окремому процесі буде запущено свій інтерпретатор Python зі своїм GIL.\n",
    "\n",
    "Для використання процесів необхідно імпортувати клас Process модуля multiprocessing."
   ]
  },
  {
   "cell_type": "code",
   "execution_count": 15,
   "id": "39ce5bfb-564d-44d4-82e6-395b0462b094",
   "metadata": {},
   "outputs": [],
   "source": [
    "from multiprocessing import Process"
   ]
  },
  {
   "cell_type": "code",
   "execution_count": 20,
   "id": "3084fc62-80b1-458c-81c4-a57bfdb4e008",
   "metadata": {},
   "outputs": [],
   "source": [
    "def cpu_boun(number: int):\n",
    "    for _ in range(number):\n",
    "        for i in range(number):\n",
    "            for j in range(i):\n",
    "                if j > 0:\n",
    "                    if i % j != 0:\n",
    "                        res = True\n",
    "    print(\"done\")"
   ]
  },
  {
   "cell_type": "code",
   "execution_count": 21,
   "id": "deb6ae35-0ea7-43a8-a87c-597fa914492a",
   "metadata": {},
   "outputs": [
    {
     "name": "stdout",
     "output_type": "stream",
     "text": [
      "done\n",
      "done\n",
      "done\n"
     ]
    }
   ],
   "source": [
    "cpu_boun(400)\n",
    "cpu_boun(500)\n",
    "cpu_boun(600)"
   ]
  },
  {
   "cell_type": "code",
   "execution_count": 27,
   "id": "40a7b730-e8ff-4059-9ce4-1738b3ae4a7d",
   "metadata": {},
   "outputs": [
    {
     "name": "stdout",
     "output_type": "stream",
     "text": [
      "done\n",
      "done\n",
      "done\n"
     ]
    }
   ],
   "source": [
    "p1 = Process(target=cpu_boun,args=(400,))\n",
    "p1.start()\n",
    "p2 = Process(target=cpu_boun,args=(500,))\n",
    "p2.start()\n",
    "p3 = Process(target=cpu_boun,args=(600,))\n",
    "p3.start()"
   ]
  },
  {
   "cell_type": "markdown",
   "id": "5e212707-d026-45d0-88ed-1da68c40dd82",
   "metadata": {},
   "source": [
    "### Зручніший спосіб користуватись багатопроцесністю"
   ]
  },
  {
   "cell_type": "code",
   "execution_count": 28,
   "id": "ef2c8eda-37ca-4d0d-9d49-2606a6d7c4f3",
   "metadata": {},
   "outputs": [],
   "source": [
    "from multiprocessing import Pool\n"
   ]
  },
  {
   "cell_type": "code",
   "execution_count": 29,
   "id": "ff6804cd-d56b-4dcb-8be1-aae48cb8ff70",
   "metadata": {},
   "outputs": [
    {
     "name": "stdout",
     "output_type": "stream",
     "text": [
      "done\n",
      "done\n",
      "done\n"
     ]
    }
   ],
   "source": [
    "with Pool(5) as p:\n",
    "    p.map(cpu_boun, [400, 500, 600])"
   ]
  },
  {
   "cell_type": "markdown",
   "id": "51ab0d56-def7-492e-81b4-ee8462856137",
   "metadata": {},
   "source": [
    "### Приклад ближче до реальності"
   ]
  },
  {
   "cell_type": "code",
   "execution_count": 1,
   "id": "e8696cb2-6789-4b54-aae6-0462cdf6bd5a",
   "metadata": {
    "scrolled": true
   },
   "outputs": [],
   "source": [
    "import concurrent.futures\n",
    "from PIL import Image, ImageFilter "
   ]
  },
  {
   "cell_type": "code",
   "execution_count": 9,
   "id": "8e67aeb5-935a-43fd-9879-347c4f594948",
   "metadata": {},
   "outputs": [],
   "source": [
    "\n",
    "img_names = [\n",
    "    \"img1.jpg\",\n",
    "    \"img2.jpg\",\n",
    "    \"img3.jpg\",\n",
    "    \"img4.jpg\",\n",
    "    \"img5.jpg\",\n",
    "    \"img6.jpg\",\n",
    "    \"img7.jpg\",\n",
    "    \"img8.jpg\",\n",
    "]"
   ]
  },
  {
   "cell_type": "code",
   "execution_count": 49,
   "id": "6d220c9d-8c3d-4cf5-b5ad-706a07a6f812",
   "metadata": {},
   "outputs": [
    {
     "name": "stdout",
     "output_type": "stream",
     "text": [
      "img3.jpg was processed...\n",
      "img6.jpg was processed...\n",
      "img7.jpg was processed...\n",
      "img3.jpg was processed...\n",
      "img6.jpg was processed...\n",
      "img7.jpg was processed...\n",
      "img2.jpg was processed...\n"
     ]
    },
    {
     "ename": "KeyboardInterrupt",
     "evalue": "",
     "output_type": "error",
     "traceback": [
      "\u001b[0;31m---------------------------------------------------------------------------\u001b[0m",
      "\u001b[0;31mKeyboardInterrupt\u001b[0m                         Traceback (most recent call last)",
      "Cell \u001b[0;32mIn[49], line 28\u001b[0m\n\u001b[1;32m     21\u001b[0m \u001b[38;5;66;03m# for name in img_names:\u001b[39;00m\n\u001b[1;32m     22\u001b[0m \u001b[38;5;66;03m#     process_image(name)\u001b[39;00m\n\u001b[1;32m     27\u001b[0m start \u001b[38;5;241m=\u001b[39m time\u001b[38;5;241m.\u001b[39mtime()\n\u001b[0;32m---> 28\u001b[0m \u001b[38;5;28;43;01mwith\u001b[39;49;00m\u001b[43m \u001b[49m\u001b[43mconcurrent\u001b[49m\u001b[38;5;241;43m.\u001b[39;49m\u001b[43mfutures\u001b[49m\u001b[38;5;241;43m.\u001b[39;49m\u001b[43mThreadPoolExecutor\u001b[49m\u001b[43m(\u001b[49m\u001b[43m)\u001b[49m\u001b[43m \u001b[49m\u001b[38;5;28;43;01mas\u001b[39;49;00m\u001b[43m \u001b[49m\u001b[43mexecutor\u001b[49m\u001b[43m:\u001b[49m\n\u001b[1;32m     29\u001b[0m \u001b[43m    \u001b[49m\u001b[43mexecutor\u001b[49m\u001b[38;5;241;43m.\u001b[39;49m\u001b[43mmap\u001b[49m\u001b[43m(\u001b[49m\u001b[43mprocess_image\u001b[49m\u001b[43m,\u001b[49m\u001b[43m \u001b[49m\u001b[43mimg_names\u001b[49m\u001b[43m)\u001b[49m\n\u001b[1;32m     31\u001b[0m finish \u001b[38;5;241m=\u001b[39m time\u001b[38;5;241m.\u001b[39mtime()\n",
      "File \u001b[0;32m~/.pyenv/versions/3.11.2/lib/python3.11/concurrent/futures/_base.py:647\u001b[0m, in \u001b[0;36mExecutor.__exit__\u001b[0;34m(self, exc_type, exc_val, exc_tb)\u001b[0m\n\u001b[1;32m    646\u001b[0m \u001b[38;5;28;01mdef\u001b[39;00m \u001b[38;5;21m__exit__\u001b[39m(\u001b[38;5;28mself\u001b[39m, exc_type, exc_val, exc_tb):\n\u001b[0;32m--> 647\u001b[0m     \u001b[38;5;28;43mself\u001b[39;49m\u001b[38;5;241;43m.\u001b[39;49m\u001b[43mshutdown\u001b[49m\u001b[43m(\u001b[49m\u001b[43mwait\u001b[49m\u001b[38;5;241;43m=\u001b[39;49m\u001b[38;5;28;43;01mTrue\u001b[39;49;00m\u001b[43m)\u001b[49m\n\u001b[1;32m    648\u001b[0m     \u001b[38;5;28;01mreturn\u001b[39;00m \u001b[38;5;28;01mFalse\u001b[39;00m\n",
      "File \u001b[0;32m~/.pyenv/versions/3.11.2/lib/python3.11/concurrent/futures/thread.py:235\u001b[0m, in \u001b[0;36mThreadPoolExecutor.shutdown\u001b[0;34m(self, wait, cancel_futures)\u001b[0m\n\u001b[1;32m    233\u001b[0m \u001b[38;5;28;01mif\u001b[39;00m wait:\n\u001b[1;32m    234\u001b[0m     \u001b[38;5;28;01mfor\u001b[39;00m t \u001b[38;5;129;01min\u001b[39;00m \u001b[38;5;28mself\u001b[39m\u001b[38;5;241m.\u001b[39m_threads:\n\u001b[0;32m--> 235\u001b[0m         \u001b[43mt\u001b[49m\u001b[38;5;241;43m.\u001b[39;49m\u001b[43mjoin\u001b[49m\u001b[43m(\u001b[49m\u001b[43m)\u001b[49m\n",
      "File \u001b[0;32m~/.pyenv/versions/3.11.2/lib/python3.11/threading.py:1112\u001b[0m, in \u001b[0;36mThread.join\u001b[0;34m(self, timeout)\u001b[0m\n\u001b[1;32m   1109\u001b[0m     \u001b[38;5;28;01mraise\u001b[39;00m \u001b[38;5;167;01mRuntimeError\u001b[39;00m(\u001b[38;5;124m\"\u001b[39m\u001b[38;5;124mcannot join current thread\u001b[39m\u001b[38;5;124m\"\u001b[39m)\n\u001b[1;32m   1111\u001b[0m \u001b[38;5;28;01mif\u001b[39;00m timeout \u001b[38;5;129;01mis\u001b[39;00m \u001b[38;5;28;01mNone\u001b[39;00m:\n\u001b[0;32m-> 1112\u001b[0m     \u001b[38;5;28;43mself\u001b[39;49m\u001b[38;5;241;43m.\u001b[39;49m\u001b[43m_wait_for_tstate_lock\u001b[49m\u001b[43m(\u001b[49m\u001b[43m)\u001b[49m\n\u001b[1;32m   1113\u001b[0m \u001b[38;5;28;01melse\u001b[39;00m:\n\u001b[1;32m   1114\u001b[0m     \u001b[38;5;66;03m# the behavior of a negative timeout isn't documented, but\u001b[39;00m\n\u001b[1;32m   1115\u001b[0m     \u001b[38;5;66;03m# historically .join(timeout=x) for x<0 has acted as if timeout=0\u001b[39;00m\n\u001b[1;32m   1116\u001b[0m     \u001b[38;5;28mself\u001b[39m\u001b[38;5;241m.\u001b[39m_wait_for_tstate_lock(timeout\u001b[38;5;241m=\u001b[39m\u001b[38;5;28mmax\u001b[39m(timeout, \u001b[38;5;241m0\u001b[39m))\n",
      "File \u001b[0;32m~/.pyenv/versions/3.11.2/lib/python3.11/threading.py:1132\u001b[0m, in \u001b[0;36mThread._wait_for_tstate_lock\u001b[0;34m(self, block, timeout)\u001b[0m\n\u001b[1;32m   1129\u001b[0m     \u001b[38;5;28;01mreturn\u001b[39;00m\n\u001b[1;32m   1131\u001b[0m \u001b[38;5;28;01mtry\u001b[39;00m:\n\u001b[0;32m-> 1132\u001b[0m     \u001b[38;5;28;01mif\u001b[39;00m \u001b[43mlock\u001b[49m\u001b[38;5;241;43m.\u001b[39;49m\u001b[43macquire\u001b[49m\u001b[43m(\u001b[49m\u001b[43mblock\u001b[49m\u001b[43m,\u001b[49m\u001b[43m \u001b[49m\u001b[43mtimeout\u001b[49m\u001b[43m)\u001b[49m:\n\u001b[1;32m   1133\u001b[0m         lock\u001b[38;5;241m.\u001b[39mrelease()\n\u001b[1;32m   1134\u001b[0m         \u001b[38;5;28mself\u001b[39m\u001b[38;5;241m.\u001b[39m_stop()\n",
      "\u001b[0;31mKeyboardInterrupt\u001b[0m: "
     ]
    },
    {
     "name": "stdout",
     "output_type": "stream",
     "text": [
      "img4.jpg was processed...\n",
      "img8.jpg was processed...\n",
      "img5.jpg was processed...\n",
      "img1.jpg was processed...\n",
      "img2.jpg was processed...\n",
      "img4.jpg was processed...\n",
      "img8.jpg was processed...\n",
      "img1.jpg was processed...\n",
      "img5.jpg was processed...\n"
     ]
    }
   ],
   "source": [
    "import time\n",
    "\n",
    "size = (1200, 1200)\n",
    "\n",
    "\n",
    "def process_image(img_name):\n",
    "    img = Image.open(img_name)\n",
    "\n",
    "    for _ in range(5):\n",
    "        img = img.filter(ImageFilter.GaussianBlur(15))\n",
    "        img = img.filter(ImageFilter.UnsharpMask(15))\n",
    "        img = img.filter(ImageFilter.GaussianBlur(15))\n",
    "        img = img.filter(ImageFilter.UnsharpMask(15))\n",
    "        img = img.filter(ImageFilter.GaussianBlur(15))\n",
    "        img = img.filter(ImageFilter.UnsharpMask(15))\n",
    "    img.thumbnail(size)\n",
    "    img.save(f'processed/{img_name}')\n",
    "    print(f'{img_name} was processed...')\n",
    "\n",
    "\n",
    "# for name in img_names:\n",
    "#     process_image(name)\n",
    "\n",
    "\n",
    "\n",
    "\n",
    "start = time.time()\n",
    "with concurrent.futures.ThreadPoolExecutor() as executor:\n",
    "    executor.map(process_image, img_names)\n",
    "\n",
    "finish = time.time()\n",
    "\n",
    "print(finish - start)"
   ]
  },
  {
   "cell_type": "markdown",
   "id": "83ae15ba-64a9-4d1a-b132-1d326aaccf84",
   "metadata": {},
   "source": [
    "# ДЗпроцесів\n",
    "Напишіть реалізацію функції factorize, яка приймає список чисел та повертає список чисел, на які числа із вхідного списку поділяються без залишку.\n",
    "\n",
    "Реалізуйте синхронну версію та виміряйте час виконання.\n",
    "\n",
    "Потім покращіть продуктивність вашої функції, реалізувавши використання кількох ядер процесора для паралельних обчислень і заміряйте час виконання знову. Для визначення кількості ядер на машині використовуйте функцію cpu_count() з пакета multiprocessing"
   ]
  },
  {
   "cell_type": "code",
   "execution_count": 120,
   "id": "25a69e86-ec20-48f1-b826-547313b5a0fd",
   "metadata": {},
   "outputs": [
    {
     "name": "stdout",
     "output_type": "stream",
     "text": [
      "{1, 2}\n",
      "{128: {32, 1, 2, 64, 4, 128, 8, 16},\n",
      " 255: {1, 3, 5, 15, 17, 51, 85, 255},\n",
      " 99999: {1, 3, 2439, 11111, 9, 41, 813, 271, 369, 33333, 123, 99999},\n",
      " 10651060: {1,\n",
      "            2,\n",
      "            4,\n",
      "            5,\n",
      "            7,\n",
      "            10,\n",
      "            14,\n",
      "            20,\n",
      "            28,\n",
      "            35,\n",
      "            70,\n",
      "            140,\n",
      "            76079,\n",
      "            152158,\n",
      "            304316,\n",
      "            380395,\n",
      "            532553,\n",
      "            760790,\n",
      "            1065106,\n",
      "            1521580,\n",
      "            2130212,\n",
      "            2662765,\n",
      "            5325530,\n",
      "            10651060}}\n"
     ]
    }
   ],
   "source": [
    "from pprint import pprint \n",
    "def factorize(numbers: list[int]):\n",
    "    results = {}\n",
    "    for num in numbers:\n",
    "        results[num] = set()\n",
    "        for i in range(1, num+1):\n",
    "            if num % i == 0:\n",
    "                results[num].add(i)\n",
    "    pprint(results)\n",
    "    return set.intersection(*[value for value in results.values()])\n",
    "    \n",
    "\n",
    "\n",
    "# result  = factorize([2,8,16, 32])\n",
    "example = [128, 255, 99999, 10651060]\n",
    "print(result)\n",
    "result  = factorize([example)\n",
    "# assert result == set([1, 2, 4, 8, 16, 32, 64, 128])\n",
    "    "
   ]
  },
  {
   "cell_type": "code",
   "execution_count": 121,
   "id": "aa727b50-84ae-4732-9c95-b897803a793e",
   "metadata": {},
   "outputs": [
    {
     "data": {
      "text/plain": [
       "3"
      ]
     },
     "execution_count": 121,
     "metadata": {},
     "output_type": "execute_result"
    }
   ],
   "source": [
    "255 % 4\n"
   ]
  }
 ],
 "metadata": {
  "kernelspec": {
   "display_name": "Python 3 (ipykernel)",
   "language": "python",
   "name": "python3"
  },
  "language_info": {
   "codemirror_mode": {
    "name": "ipython",
    "version": 3
   },
   "file_extension": ".py",
   "mimetype": "text/x-python",
   "name": "python",
   "nbconvert_exporter": "python",
   "pygments_lexer": "ipython3",
   "version": "3.11.2"
  }
 },
 "nbformat": 4,
 "nbformat_minor": 5
}
